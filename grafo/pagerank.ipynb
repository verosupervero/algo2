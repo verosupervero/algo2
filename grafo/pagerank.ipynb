{
 "cells": [
  {
   "cell_type": "code",
   "execution_count": 1,
   "metadata": {},
   "outputs": [],
   "source": [
    "import csv\n",
    "import numpy as np\n",
    "from Grafo import Grafo\n",
    "grafo_tiempo = Grafo()\n",
    "grafo_precio = Grafo()\n",
    "grafo_vuelos = Grafo()\n",
    "ciudades_codigo={}\n",
    "\n",
    "with open('aeropuertos_inventados.csv', newline='') as csvfile:\n",
    "        aeropuertos = csv.reader(csvfile, delimiter=',')\n",
    "        for dato in aeropuertos:\n",
    "            #Agrego la ciudad de nombre y valor el codigo\n",
    "            ciudades_codigo[dato[0]]=dato[1]\n",
    "\n",
    "            #Agrego los vertices al grafo, son los codigos\n",
    "            grafo_tiempo.agregar_vertice(dato[1])\n",
    "            grafo_precio.agregar_vertice(dato[1])\n",
    "            grafo_vuelos.agregar_vertice(dato[1])\n",
    "\n",
    "# Agrego las aristas\n",
    "with open('vuelos_inventados.csv', newline='') as csvfile:\n",
    "    vuelos = csv.reader(csvfile, delimiter=',')\n",
    "    for dato in vuelos:\n",
    "        grafo_tiempo.agregar_arista(dato[0],dato[1],int(dato[2]))\n",
    "        grafo_precio.agregar_arista(dato[0],dato[1],int(dato[3]))\n",
    "        grafo_vuelos.agregar_arista(dato[0],dato[1],1/int(dato[4]))"
   ]
  },
  {
   "cell_type": "code",
   "execution_count": 2,
   "metadata": {},
   "outputs": [],
   "source": [
    "m=grafo_vuelos.mat_adyacencias()"
   ]
  },
  {
   "cell_type": "code",
   "execution_count": 3,
   "metadata": {},
   "outputs": [
    {
     "name": "stdout",
     "output_type": "stream",
     "text": [
      "[ 0.12121269  0.51499745  0.58829281  0.28216829  0.57122558  0.14986154\n",
      "  0.826106    0.21865216  0.02851447  0.79577978]\n"
     ]
    }
   ],
   "source": [
    "cant_vertices=len(grafo_vuelos)\n",
    "        \n",
    "x=np.random.rand(cant_vertices)\n",
    "print(x)"
   ]
  },
  {
   "cell_type": "code",
   "execution_count": 4,
   "metadata": {},
   "outputs": [],
   "source": [
    "M=grafo_vuelos.mat_adyacencias().transpose().todense()"
   ]
  },
  {
   "cell_type": "code",
   "execution_count": 5,
   "metadata": {},
   "outputs": [
    {
     "name": "stdout",
     "output_type": "stream",
     "text": [
      "[[ 0.00102408  0.0011379   0.00126617  0.0005005   0.00037936  0.00068024\n",
      "   0.00128143  0.          0.001025    0.00149255]]\n"
     ]
    }
   ],
   "source": [
    "vero= M.sum(axis=0)\n",
    "print(vero)"
   ]
  },
  {
   "cell_type": "code",
   "execution_count": null,
   "metadata": {
    "collapsed": true
   },
   "outputs": [],
   "source": []
  }
 ],
 "metadata": {
  "kernelspec": {
   "display_name": "Python 3",
   "language": "python",
   "name": "python3"
  },
  "language_info": {
   "codemirror_mode": {
    "name": "ipython",
    "version": 3
   },
   "file_extension": ".py",
   "mimetype": "text/x-python",
   "name": "python",
   "nbconvert_exporter": "python",
   "pygments_lexer": "ipython3",
   "version": "3.6.2"
  }
 },
 "nbformat": 4,
 "nbformat_minor": 2
}
