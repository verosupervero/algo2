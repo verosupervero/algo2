{
 "cells": [
  {
   "cell_type": "code",
   "execution_count": 1,
   "metadata": {},
   "outputs": [],
   "source": [
    "#\"\"\" Prueba recorridos sobre el siguiente grafo no dirigido:\n",
    "#             A\n",
    "#             |\n",
    "#        -----------\n",
    "#       /     |      \\\n",
    "#      B      C       E\n",
    "#    /  \\     |       |\n",
    "#   D    F    G       |\n",
    "#        |____________|\n",
    "#    \"\"\"\n",
    "\n",
    "from Grafo import Grafo\n",
    "\n",
    "grafito = Grafo()\n",
    "lista_vertices = [\"A\",\"B\",\"C\",\"D\",\"E\",\"F\",\"G\"]\n",
    "lista_aristas = [(\"A\",\"B\"), (\"B\",\"D\"), (\"B\",\"F\"), (\"F\",\"E\"), #\n",
    "(\"A\",\"C\"),(\"C\",\"G\"), #\n",
    "(\"A\",\"E\")]\n",
    "\n",
    "for k in lista_vertices:\n",
    "    grafito.agregar_vertice(k)\n",
    "\n",
    "for a,b in lista_aristas:\n",
    "    grafito.agregar_arista(a,b,no_dirigido=True)\n"
   ]
  },
  {
   "cell_type": "code",
   "execution_count": 2,
   "metadata": {},
   "outputs": [
    {
     "name": "stdout",
     "output_type": "stream",
     "text": [
      "['A']\n",
      "['A', 'B']\n",
      "['A', 'B', 'C']\n",
      "['A', 'B', 'C', 'E']\n",
      "['A', 'B', 'C', 'E', 'D']\n",
      "['A', 'B', 'C', 'E', 'D', 'F']\n",
      "['A', 'B', 'C', 'E', 'D', 'F', 'G']\n",
      "['A', 'B', 'C', 'E', 'D', 'F', 'G', 'F']\n"
     ]
    },
    {
     "data": {
      "text/plain": [
       "(['A', 'B', 'C', 'E', 'D', 'F', 'G', 'F'],\n",
       " {'A': None, 'B': 'A', 'C': 'A', 'D': 'B', 'E': 'A', 'F': 'E', 'G': 'C'},\n",
       " {'A': 0, 'B': 1, 'C': 1, 'D': 2, 'E': 1, 'F': 2, 'G': 2})"
      ]
     },
     "execution_count": 2,
     "metadata": {},
     "output_type": "execute_result"
    }
   ],
   "source": [
    "origen=\"A\"\n",
    "dest=\"F\"\n",
    "grafito.bfs(origen=origen)"
   ]
  },
  {
   "cell_type": "code",
   "execution_count": 3,
   "metadata": {},
   "outputs": [
    {
     "ename": "NameError",
     "evalue": "name 'p' is not defined",
     "output_type": "error",
     "traceback": [
      "\u001b[1;31m---------------------------------------------------------------------------\u001b[0m",
      "\u001b[1;31mNameError\u001b[0m                                 Traceback (most recent call last)",
      "\u001b[1;32m<ipython-input-3-17418c6b37b4>\u001b[0m in \u001b[0;36m<module>\u001b[1;34m()\u001b[0m\n\u001b[0;32m      3\u001b[0m \u001b[0mpila\u001b[0m\u001b[1;33m.\u001b[0m\u001b[0minsert\u001b[0m\u001b[1;33m(\u001b[0m\u001b[1;36m0\u001b[0m\u001b[1;33m,\u001b[0m\u001b[1;34m'b'\u001b[0m\u001b[1;33m)\u001b[0m\u001b[1;33m\u001b[0m\u001b[0m\n\u001b[0;32m      4\u001b[0m \u001b[1;33m\u001b[0m\u001b[0m\n\u001b[1;32m----> 5\u001b[1;33m \u001b[1;32mif\u001b[0m \u001b[1;32mnot\u001b[0m \u001b[0mp\u001b[0m\u001b[1;33m[\u001b[0m\u001b[1;34m'A'\u001b[0m\u001b[1;33m]\u001b[0m\u001b[1;33m:\u001b[0m\u001b[1;33m\u001b[0m\u001b[0m\n\u001b[0m\u001b[0;32m      6\u001b[0m     \u001b[0mprint\u001b[0m\u001b[1;33m(\u001b[0m\u001b[1;36m5\u001b[0m\u001b[1;33m)\u001b[0m\u001b[1;33m\u001b[0m\u001b[0m\n",
      "\u001b[1;31mNameError\u001b[0m: name 'p' is not defined"
     ]
    }
   ],
   "source": [
    "pila=[]\n",
    "pila.insert(0,'a')\n",
    "pila.insert(0,'b')\n",
    "\n",
    "if not p['A']:\n",
    "    print(5)"
   ]
  },
  {
   "cell_type": "code",
   "execution_count": null,
   "metadata": {},
   "outputs": [],
   "source": [
    "pila=[]\n",
    "\n",
    "pila"
   ]
  },
  {
   "cell_type": "code",
   "execution_count": null,
   "metadata": {},
   "outputs": [],
   "source": [
    "print(v)"
   ]
  },
  {
   "cell_type": "code",
   "execution_count": null,
   "metadata": {},
   "outputs": [],
   "source": []
  }
 ],
 "metadata": {
  "kernelspec": {
   "display_name": "Python 3",
   "language": "python",
   "name": "python3"
  },
  "language_info": {
   "codemirror_mode": {
    "name": "ipython",
    "version": 3
   },
   "file_extension": ".py",
   "mimetype": "text/x-python",
   "name": "python",
   "nbconvert_exporter": "python",
   "pygments_lexer": "ipython3",
   "version": "3.7.0"
  }
 },
 "nbformat": 4,
 "nbformat_minor": 2
}
