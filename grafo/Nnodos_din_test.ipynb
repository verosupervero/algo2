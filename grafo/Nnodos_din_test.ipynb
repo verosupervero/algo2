{
 "cells": [
  {
   "cell_type": "markdown",
   "metadata": {},
   "source": [
    "# Recorrido por N nodos"
   ]
  },
  {
   "cell_type": "code",
   "execution_count": 39,
   "metadata": {},
   "outputs": [
    {
     "name": "stdout",
     "output_type": "stream",
     "text": [
      "{'A': 0, 'B': 1, 'C': 2, 'D': 3, 'E': 4, 'F': 5, 'G': 6}\n",
      "<vertices: ['A', 'B', 'C', 'D', 'E', 'F', 'G']\n",
      " Adyacencias:\n",
      "[[0. 1. 0. 0. 0. 0. 0.]\n",
      " [1. 0. 1. 0. 1. 0. 0.]\n",
      " [0. 1. 0. 1. 1. 0. 0.]\n",
      " [0. 0. 1. 0. 1. 0. 0.]\n",
      " [0. 1. 1. 1. 0. 0. 0.]\n",
      " [0. 0. 0. 0. 0. 0. 0.]\n",
      " [0. 0. 0. 0. 0. 0. 0.]] >\n"
     ]
    }
   ],
   "source": [
    "from Grafo import Grafo\n",
    "import numpy as np\n",
    "\n",
    "# armo un grafo\n",
    "grafito = Grafo()\n",
    "lista_vertices = [\"A\",\"B\",\"C\",\"D\",\"E\",\"F\",\"G\"]\n",
    "lista_aristas = [(\"A\",\"B\"), (\"B\",\"C\"), (\"C\",\"D\"), (\"D\",\"E\"), (\"B\",\"E\"),(\"C\",\"E\")]\n",
    "\n",
    "for k in lista_vertices:\n",
    "    grafito.agregar_vertice(k)\n",
    "\n",
    "for a,b in lista_aristas:\n",
    "    grafito.agregar_arista(a,b, no_dirigido=True)\n",
    "\n",
    "print(grafito)"
   ]
  },
  {
   "cell_type": "code",
   "execution_count": 40,
   "metadata": {
    "collapsed": true
   },
   "outputs": [],
   "source": [
    "#self = grafito\n",
    "def nnodos(origen, destino, largo):\n",
    "    ruta = []\n",
    "    \n",
    "    # declaro funcion wrappeada\n",
    "    def _nnodos(origen, destino, largo, ruta=[]):\n",
    "        ruta.append(origen)\n",
    "        if largo==0:\n",
    "            if origen==destino:\n",
    "                return True\n",
    "            else:\n",
    "                ruta.pop()\n",
    "                return False\n",
    "\n",
    "\n",
    "        for v in grafito.obtener_adyacentes(origen):\n",
    "            if not v in ruta:\n",
    "                if _nnodos(v, destino, largo-1, ruta):\n",
    "                    return True\n",
    "\n",
    "        ruta.pop()\n",
    "        return False\n",
    "    \n",
    "    # inicio recursion\n",
    "    _nnodos(origen, destino, largo, ruta)\n",
    "    return ruta"
   ]
  },
  {
   "cell_type": "code",
   "execution_count": 44,
   "metadata": {},
   "outputs": [
    {
     "name": "stdout",
     "output_type": "stream",
     "text": [
      "['A', 'B']\n",
      "['A', 'B', 'E']\n",
      "['A', 'B', 'C', 'E']\n",
      "['A', 'B', 'C', 'D', 'E']\n",
      "[]\n",
      "[]\n"
     ]
    }
   ],
   "source": [
    "print(nnodos(\"A\", \"B\", 1))\n",
    "print(nnodos(\"A\", \"E\", 2))\n",
    "print(nnodos(\"A\", \"E\", 3))\n",
    "print(nnodos(\"A\", \"E\", 4))\n",
    "print(nnodos(\"A\", \"E\", 5))\n",
    "print(nnodos(\"A\", \"E\", 6))"
   ]
  },
  {
   "cell_type": "code",
   "execution_count": 42,
   "metadata": {},
   "outputs": [
    {
     "name": "stdout",
     "output_type": "stream",
     "text": [
      "['x', 'y']\n",
      "['x']\n"
     ]
    }
   ],
   "source": [
    "a=[]\n",
    "a.append(\"x\")\n",
    "a.append(\"y\")\n",
    "print(a)\n",
    "a.pop()\n",
    "\n",
    "print(a)"
   ]
  },
  {
   "cell_type": "code",
   "execution_count": null,
   "metadata": {
    "collapsed": true
   },
   "outputs": [],
   "source": []
  }
 ],
 "metadata": {
  "kernelspec": {
   "display_name": "Python 3",
   "language": "python",
   "name": "python3"
  },
  "language_info": {
   "codemirror_mode": {
    "name": "ipython",
    "version": 3
   },
   "file_extension": ".py",
   "mimetype": "text/x-python",
   "name": "python",
   "nbconvert_exporter": "python",
   "pygments_lexer": "ipython3",
   "version": "3.6.2"
  }
 },
 "nbformat": 4,
 "nbformat_minor": 2
}
