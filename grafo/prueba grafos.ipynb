{
 "cells": [
  {
   "cell_type": "code",
   "execution_count": 1,
   "metadata": {},
   "outputs": [
    {
     "name": "stdout",
     "output_type": "stream",
     "text": [
      "[[0. 0.]\n",
      " [0. 1.]]\n",
      "\n",
      "agrego nodo:\n",
      "[[0. 0. 0.]\n",
      " [0. 1. 5.]\n",
      " [0. 0. 0.]]\n"
     ]
    },
    {
     "data": {
      "text/plain": [
       "matrix([[1., 5.],\n",
       "        [0., 0.]])"
      ]
     },
     "execution_count": 1,
     "metadata": {},
     "output_type": "execute_result"
    }
   ],
   "source": [
    "import numpy as np\n",
    "from scipy import sparse\n",
    "\n",
    "\n",
    "M = sparse.dok_matrix((0,0))\n",
    "\n",
    "M.resize(2,2)\n",
    "M[1,1] = 1\n",
    "print(M.todense())\n",
    "\n",
    "print(\"\\nagrego nodo:\")\n",
    "\n",
    "M.resize(3,3)\n",
    "M[1,2] = 5\n",
    "print(M.todense())\n",
    "\n",
    "max(M.get_shape())\n",
    "\n",
    "validas = [1,2]\n",
    "M[:,validas][validas,:].todense()"
   ]
  },
  {
   "cell_type": "code",
   "execution_count": 2,
   "metadata": {},
   "outputs": [],
   "source": [
    "from Grafo import Grafo"
   ]
  },
  {
   "cell_type": "code",
   "execution_count": 3,
   "metadata": {},
   "outputs": [
    {
     "data": {
      "text/plain": [
       "0"
      ]
     },
     "execution_count": 3,
     "metadata": {},
     "output_type": "execute_result"
    }
   ],
   "source": [
    "l = ['luis', 'pepe']\n",
    "d = {i:v for v,i in enumerate(l)}\n",
    "d['luis']"
   ]
  },
  {
   "cell_type": "code",
   "execution_count": 4,
   "metadata": {},
   "outputs": [
    {
     "ename": "TypeError",
     "evalue": "'module' object is not callable",
     "output_type": "error",
     "traceback": [
      "\u001b[1;31m---------------------------------------------------------------------------\u001b[0m",
      "\u001b[1;31mTypeError\u001b[0m                                 Traceback (most recent call last)",
      "\u001b[1;32m<ipython-input-4-c66982aba962>\u001b[0m in \u001b[0;36m<module>\u001b[1;34m()\u001b[0m\n\u001b[1;32m----> 1\u001b[1;33m \u001b[0mgrafito\u001b[0m \u001b[1;33m=\u001b[0m \u001b[0mGrafo\u001b[0m\u001b[1;33m(\u001b[0m\u001b[1;33m)\u001b[0m\u001b[1;33m\u001b[0m\u001b[0m\n\u001b[0m\u001b[0;32m      2\u001b[0m \u001b[1;33m\u001b[0m\u001b[0m\n\u001b[0;32m      3\u001b[0m \u001b[0mgrafito\u001b[0m\u001b[1;33m.\u001b[0m\u001b[0magregar_nodo\u001b[0m\u001b[1;33m(\u001b[0m\u001b[1;34m\"pepe\"\u001b[0m\u001b[1;33m)\u001b[0m\u001b[1;33m\u001b[0m\u001b[0m\n\u001b[0;32m      4\u001b[0m \u001b[0mgrafito\u001b[0m\u001b[1;33m.\u001b[0m\u001b[0magregar_nodo\u001b[0m\u001b[1;33m(\u001b[0m\u001b[1;34m\"luis\"\u001b[0m\u001b[1;33m)\u001b[0m\u001b[1;33m\u001b[0m\u001b[0m\n\u001b[0;32m      5\u001b[0m \u001b[0mgrafito\u001b[0m\u001b[1;33m.\u001b[0m\u001b[0magregar_nodo\u001b[0m\u001b[1;33m(\u001b[0m\u001b[1;34m\"solito\"\u001b[0m\u001b[1;33m)\u001b[0m\u001b[1;33m\u001b[0m\u001b[0m\n",
      "\u001b[1;31mTypeError\u001b[0m: 'module' object is not callable"
     ]
    }
   ],
   "source": [
    "grafito = Grafo()\n",
    "\n",
    "grafito.agregar_nodo(\"pepe\")\n",
    "grafito.agregar_nodo(\"luis\")\n",
    "grafito.agregar_nodo(\"solito\")\n",
    "grafito.agregar_arista(\"pepe\",\"luis\",3)\n",
    "grafito.agregar_arista(\"luis\",\"pepe\",-3)\n",
    "print(grafito)\n",
    "\n",
    "grafito.agregar_nodo(\"amiguis1\")\n",
    "grafito.agregar_nodo(\"amiguis2\")\n",
    "grafito.agregar_arista(\"amiguis1\",\"amiguis2\",no_dirigido=True)\n",
    "print(grafito)"
   ]
  },
  {
   "cell_type": "code",
   "execution_count": null,
   "metadata": {},
   "outputs": [],
   "source": [
    "grafito.eliminar_arista(\"amiguis1\",\"amiguis2\")\n",
    "print(grafito)\n",
    "\n",
    "grafito.eliminar_nodo(\"luis\")\n",
    "print(grafito)"
   ]
  },
  {
   "cell_type": "code",
   "execution_count": null,
   "metadata": {},
   "outputs": [],
   "source": [
    "x=['holis','gaston','gato']\n",
    "\n",
    "if 'pepe' in x:\n",
    "    print(3)\n",
    "else:\n",
    "    print(2)\n",
    "    \n",
    "x.index('gaston')"
   ]
  },
  {
   "cell_type": "code",
   "execution_count": null,
   "metadata": {},
   "outputs": [],
   "source": [
    "x"
   ]
  },
  {
   "cell_type": "code",
   "execution_count": null,
   "metadata": {},
   "outputs": [],
   "source": [
    "m={\"pepe\":1, \"gaston\":4}\n",
    "m[\"gaston\"]"
   ]
  },
  {
   "cell_type": "code",
   "execution_count": null,
   "metadata": {},
   "outputs": [],
   "source": [
    "m[\"popo\"]=-1"
   ]
  },
  {
   "cell_type": "code",
   "execution_count": null,
   "metadata": {},
   "outputs": [],
   "source": [
    "m"
   ]
  },
  {
   "cell_type": "code",
   "execution_count": null,
   "metadata": {},
   "outputs": [],
   "source": [
    "list(m.values())"
   ]
  },
  {
   "cell_type": "code",
   "execution_count": null,
   "metadata": {},
   "outputs": [],
   "source": [
    "0.0==0"
   ]
  },
  {
   "cell_type": "code",
   "execution_count": null,
   "metadata": {},
   "outputs": [],
   "source": [
    "ts=grafito._mat_ady[:,0]"
   ]
  },
  {
   "cell_type": "code",
   "execution_count": null,
   "metadata": {},
   "outputs": [],
   "source": [
    "ts"
   ]
  },
  {
   "cell_type": "code",
   "execution_count": null,
   "metadata": {},
   "outputs": [],
   "source": [
    "grafito._mat_ady[:,0]=0"
   ]
  },
  {
   "cell_type": "code",
   "execution_count": null,
   "metadata": {},
   "outputs": [],
   "source": [
    "grafito._mat_ady.todense()"
   ]
  },
  {
   "cell_type": "code",
   "execution_count": null,
   "metadata": {},
   "outputs": [],
   "source": []
  }
 ],
 "metadata": {
  "kernelspec": {
   "display_name": "Python 3",
   "language": "python",
   "name": "python3"
  },
  "language_info": {
   "codemirror_mode": {
    "name": "ipython",
    "version": 3
   },
   "file_extension": ".py",
   "mimetype": "text/x-python",
   "name": "python",
   "nbconvert_exporter": "python",
   "pygments_lexer": "ipython3",
   "version": "3.6.5"
  }
 },
 "nbformat": 4,
 "nbformat_minor": 2
}
