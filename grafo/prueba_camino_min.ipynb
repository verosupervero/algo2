{
 "cells": [
  {
   "cell_type": "code",
   "execution_count": 1,
   "metadata": {
    "scrolled": true
   },
   "outputs": [
    {
     "ename": "SyntaxError",
     "evalue": "invalid syntax (Grafo.py, line 251)",
     "output_type": "error",
     "traceback": [
      "Traceback \u001b[0;36m(most recent call last)\u001b[0m:\n",
      "  File \u001b[1;32m\"/home/vero/anaconda3/lib/python3.6/site-packages/IPython/core/interactiveshell.py\"\u001b[0m, line \u001b[1;32m2862\u001b[0m, in \u001b[1;35mrun_code\u001b[0m\n    exec(code_obj, self.user_global_ns, self.user_ns)\n",
      "\u001b[0;36m  File \u001b[0;32m\"<ipython-input-1-77952ab39103>\"\u001b[0;36m, line \u001b[0;32m1\u001b[0;36m, in \u001b[0;35m<module>\u001b[0;36m\u001b[0m\n\u001b[0;31m    from Grafo import Grafo\u001b[0m\n",
      "\u001b[0;36m  File \u001b[0;32m\"/home/vero/Escritorio/algo2/grafo/Grafo.py\"\u001b[0;36m, line \u001b[0;32m251\u001b[0m\n\u001b[0;31m    if(vertice==dest)\u001b[0m\n\u001b[0m                     ^\u001b[0m\n\u001b[0;31mSyntaxError\u001b[0m\u001b[0;31m:\u001b[0m invalid syntax\n"
     ]
    }
   ],
   "source": [
    "from Grafo import Grafo\n",
    "import numpy as np\n",
    "\n",
    "grafito = Grafo()\n",
    "\n",
    "lista_vertices = [\"A\",\"B\",\"C\",\"D\",\"BA\",\"BB\"]\n",
    "# aristas no dirigidas\n",
    "lista_aristas = [(\"A\",\"B\",1), (\"A\",\"C\",1), (\"A\",\"D\",1), (\"B\",\"BA\",1), (\"B\",\"BB\",1),(\"BB\",\"C\",0.1)]\n",
    "\n",
    "for k in lista_vertices:\n",
    "    grafito.agregar_vertice(k)\n",
    "\n",
    "for a,b,peso in lista_aristas:\n",
    "    grafito.agregar_arista(a,b,peso=peso, no_dirigido=True)\n",
    "\n",
    "    \n",
    "d,p = grafito.camino_minimo(origen=\"A\")\n"
   ]
  },
  {
   "cell_type": "code",
   "execution_count": null,
   "metadata": {},
   "outputs": [],
   "source": [
    "grafito.centralidad()"
   ]
  },
  {
   "cell_type": "code",
   "execution_count": null,
   "metadata": {},
   "outputs": [],
   "source": [
    "from numpy import random\n",
    "\n",
    "cantidad_iteraciones=100\n",
    "#Para obtener el pagerank de cada pagina necesitamos: \n",
    "\n",
    "#La matriz de adyacencias tiene pesos, se que tan fuerte es la union entre nodos y como se conectan,\n",
    "#lo que hago es transponer la matriz y luego llevar sus columnas a que tengan como suma probabilidad=1,\n",
    "#dado que Pagerank(A)=sum Pagerank(i)/L(i) con L(i)= cantidad de links en las paginas.\n",
    "# Debe ser una matriz estocastica por eso se piden estas condiciones,\n",
    "#una matriz estocastica cuenta con esta caracteristica.\n",
    "M1=grafito.mat_adyacencias()\n",
    "print(M1.todense())\n",
    "M=grafito.mat_adyacencias().transpose()\n",
    "M/= M.sum(axis=0)\n",
    "#Me genero un vector aleatorio (o sea un vector que tiene valores entre 0 y 1)\n",
    "x=np.random.rand(len(grafito))\n",
    "\n",
    "print(\"el vector x es:\")\n",
    "print(x)\n",
    "#Sabemos que dado un vector v, lim n->oo A^k*v converge a sum lambda_i^k*v, con lambda_i cada ava.\n",
    "#Con lo cual convergera a los aves de la matriz A.\n",
    "#En este caso serán M y x nuestra matriz y vector.\n",
    "for k in range (0,cantidad_iteraciones):\n",
    "    y=M@x\n",
    "    print(f\"iteracion numero {k}\")\n",
    "    y/=y.sum()\n",
    "    print(y)\n",
    "    if((x-y).max()<0.01):\n",
    "        x=y\n",
    "        break\n",
    "        \n",
    "print(\"mi y resultante dps del for es:\")        \n",
    "print (y)"
   ]
  },
  {
   "cell_type": "code",
   "execution_count": null,
   "metadata": {},
   "outputs": [],
   "source": [
    "m,j = grafito.camino_minimo(origen=\"A\",dest=\"B\")"
   ]
  },
  {
   "cell_type": "code",
   "execution_count": null,
   "metadata": {},
   "outputs": [],
   "source": []
  },
  {
   "cell_type": "code",
   "execution_count": null,
   "metadata": {},
   "outputs": [],
   "source": [
    "def camino(param,origen,destino=None): #recibira archivo y como lo quiero recorrer al mapa, desde donde y a donde\n",
    "    grafo= Grafo()\n",
    "    grafo.armar_grafo(param)\n",
    "    \n",
    "    distancia,predecesores=camino_minimo(grafo,origen,destino)\n",
    "    imprimir_camino(distancia,predecesores)\n",
    "    \n",
    "#si llamo a mas barato se lo paso por parametro, si es con mas rapido tmb, pasa por CLO esto. \n",
    "# Ademas si no le paso dest pasandole mas rapido me obtiene el recorrido de forma optima x el mundo. \n",
    "#El de menos escalas es lo mismo pero en vez de eso lo haces con prim en lugar de camino_minimo,\n",
    "#ver de puntero a funcion o algo asi"
   ]
  },
  {
   "cell_type": "code",
   "execution_count": null,
   "metadata": {},
   "outputs": [],
   "source": []
  },
  {
   "cell_type": "code",
   "execution_count": null,
   "metadata": {
    "collapsed": true
   },
   "outputs": [],
   "source": []
  }
 ],
 "metadata": {
  "kernelspec": {
   "display_name": "Python 3",
   "language": "python",
   "name": "python3"
  },
  "language_info": {
   "codemirror_mode": {
    "name": "ipython",
    "version": 3
   },
   "file_extension": ".py",
   "mimetype": "text/x-python",
   "name": "python",
   "nbconvert_exporter": "python",
   "pygments_lexer": "ipython3",
   "version": "3.6.2"
  }
 },
 "nbformat": 4,
 "nbformat_minor": 2
}
