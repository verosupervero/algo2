{
 "cells": [
  {
   "cell_type": "code",
   "execution_count": 1,
   "metadata": {
    "scrolled": true
   },
   "outputs": [
    {
     "name": "stdout",
     "output_type": "stream",
     "text": [
      "{'A': 0, 'B': 1.0, 'C': 1.0, 'D': 1.0, 'BA': 2.0, 'BB': 1.1000000000000001}\n",
      "{'A': None, 'B': 'A', 'C': 'A', 'D': 'A', 'BA': 'B', 'BB': 'C'}\n"
     ]
    }
   ],
   "source": [
    "from Grafo import Grafo\n",
    "import numpy as np\n",
    "\n",
    "grafito = Grafo()\n",
    "\n",
    "lista_vertices = [\"A\",\"B\",\"C\",\"D\",\"BA\",\"BB\"]\n",
    "# aristas no dirigidas\n",
    "lista_aristas = [(\"A\",\"B\",1), (\"A\",\"C\",1), (\"A\",\"D\",1), (\"B\",\"BA\",1), (\"B\",\"BB\",1),(\"BB\",\"C\",0.1)]\n",
    "\n",
    "for k in lista_vertices:\n",
    "    grafito.agregar_vertice(k)\n",
    "\n",
    "for a,b,peso in lista_aristas:\n",
    "    grafito.agregar_arista(a,b,peso=peso, no_dirigido=True)\n",
    "\n",
    "    \n",
    "d,p = grafito.camino_minimo(origen=\"A\")\n",
    "\n",
    "print(d)\n",
    "print(p)\n",
    "pila=[]\n",
    "\n",
    "def imprimir_camino_minimo(d,p,pila, origen, dest=None):\n",
    "    \n",
    "    if dest==origen:\n",
    "        pila.insert(0,dest)\n",
    "        for element in pila:\n",
    "            print(element,\"->\")\n",
    "        pila.clear()\n",
    "        return\n",
    "    \n",
    "    if dest==None:\n",
    "        valor_min=0\n",
    "        for clave,valor in d.items():\n",
    "            if valor>valor_min:\n",
    "                valor_min=valor\n",
    "                dest=clave\n",
    "    \n",
    "    pila.insert(0,dest)\n",
    "    imprimir_camino_minimo(d,p,pila, origen, p[dest])"
   ]
  },
  {
   "cell_type": "code",
   "execution_count": 2,
   "metadata": {},
   "outputs": [
    {
     "data": {
      "text/plain": [
       "{'A': 8, 'B': 8, 'BA': 0, 'BB': 4, 'C': 4, 'D': 0}"
      ]
     },
     "execution_count": 2,
     "metadata": {},
     "output_type": "execute_result"
    }
   ],
   "source": [
    "grafito.centralidad()"
   ]
  },
  {
   "cell_type": "code",
   "execution_count": 3,
   "metadata": {
    "scrolled": false
   },
   "outputs": [
    {
     "name": "stdout",
     "output_type": "stream",
     "text": [
      "{'A': 0, 'B': 1, 'C': 2, 'D': 3, 'BA': 4, 'BB': 5}\n",
      "{'A': 0, 'B': 1, 'C': 2, 'D': 3, 'BA': 4, 'BB': 5}\n",
      "el vector x es:\n",
      "[ 0.55941489  0.03630022  0.82962741  0.67212732  0.31958203  0.64651016]\n",
      "iteracion numero 0\n",
      "[ 0.4089573   0.31895906  0.0973752   0.0820274   0.03649307  0.05618797]\n",
      "iteracion numero 1\n",
      "[ 0.32125268  0.31519806  0.09798128  0.0870079   0.08357939  0.09498069]\n",
      "iteracion numero 2\n",
      "[ 0.27260945  0.26994066  0.11892842  0.11101016  0.10970856  0.11780275]\n",
      "iteracion numero 3\n",
      "[ 0.28272557  0.28162408  0.11359042  0.10487816  0.10419548  0.11298627]\n",
      "iteracion numero 4\n",
      "[ 0.27507441  0.27438415  0.11688387  0.10865801  0.10836493  0.11663463]\n",
      "iteracion numero 5\n",
      "[ 0.27843533  0.27820367  0.11516901  0.10668649  0.10650242  0.11500307]\n",
      "mi y resultante dps del for es:\n",
      "[ 0.27507451  0.27438425  0.11688397  0.1086581   0.10836503  0.11663473]\n"
     ]
    }
   ],
   "source": [
    "from numpy import random\n",
    "\n",
    "cantidad_iteraciones=100\n",
    "#Para obtener el pagerank de cada pagina necesitamos: \n",
    "\n",
    "#La matriz de adyacencias tiene pesos, se que tan fuerte es la union entre nodos y como se conectan,\n",
    "#lo que hago es transponer la matriz y luego llevar sus columnas a que tengan como suma probabilidad=1,\n",
    "#dado que Pagerank(A)=sum Pagerank(i)/L(i) con L(i)= cantidad de links en las paginas.\n",
    "# Debe ser una matriz estocastica por eso se piden estas condiciones,\n",
    "#una matriz estocastica cuenta con esta caracteristica.\n",
    "M1=grafito.mat_adyacencias()\n",
    "M=grafito.mat_adyacencias().transpose()\n",
    "M/= M.sum(axis=0)\n",
    "d=0.8 #duping factor, sino se queda oscilando entre links\n",
    "M= d*M + (1-d)/len(grafito)\n",
    "\n",
    "#Me genero un vector aleatorio (o sea un vector que tiene valores entre 0 y 1)\n",
    "x=np.random.rand(len(grafito))\n",
    "\n",
    "print(\"el vector x es:\")\n",
    "print(x)\n",
    "#Sabemos que dado un vector v, lim n->oo A^k*v converge a sum lambda_i^k*v, con lambda_i cada ava.\n",
    "#Con lo cual convergera a los aves de la matriz A.\n",
    "#En este caso serán M y x nuestra matriz y vector.\n",
    "for k in range (0,cantidad_iteraciones):\n",
    "    y=M@x\n",
    "    print(f\"iteracion numero {k}\")\n",
    "    y/=y.sum()\n",
    "    y_array=np.squeeze(np.asarray(y))\n",
    "    print(y_array)\n",
    "    \n",
    "    if(np.linalg.norm(x-y_array)<0.01):\n",
    "        break\n",
    "    \n",
    "    else:\n",
    "        x=y_array+(np.random.rand()/10)**k\n",
    "        \n",
    "        \n",
    "print(\"mi y resultante dps del for es:\")        \n",
    "print (x)"
   ]
  },
  {
   "cell_type": "code",
   "execution_count": 4,
   "metadata": {
    "collapsed": true
   },
   "outputs": [],
   "source": [
    "m,j = grafito.camino_minimo(origen=\"A\",dest=\"B\")"
   ]
  },
  {
   "cell_type": "code",
   "execution_count": null,
   "metadata": {
    "collapsed": true
   },
   "outputs": [],
   "source": []
  },
  {
   "cell_type": "code",
   "execution_count": 5,
   "metadata": {
    "collapsed": true
   },
   "outputs": [],
   "source": [
    "def camino(param,origen,destino=None): #recibira archivo y como lo quiero recorrer al mapa, desde donde y a donde\n",
    "    grafo= Grafo()\n",
    "    grafo.armar_grafo(param)\n",
    "    \n",
    "    distancia,predecesores=camino_minimo(grafo,origen,destino)\n",
    "    imprimir_camino(distancia,predecesores)\n",
    "    \n",
    "#si llamo a mas barato se lo paso por parametro, si es con mas rapido tmb, pasa por CLO esto. \n",
    "# Ademas si no le paso dest pasandole mas rapido me obtiene el recorrido de forma optima x el mundo. \n",
    "#El de menos escalas es lo mismo pero en vez de eso lo haces con prim en lugar de camino_minimo,\n",
    "#ver de puntero a funcion o algo asi"
   ]
  },
  {
   "cell_type": "code",
   "execution_count": 6,
   "metadata": {},
   "outputs": [
    {
     "name": "stdout",
     "output_type": "stream",
     "text": [
      "A ->\n",
      "C ->\n",
      "BB ->\n"
     ]
    }
   ],
   "source": [
    "imprimir_camino_minimo(d,p,pila,\"A\",\"BB\")\n"
   ]
  },
  {
   "cell_type": "code",
   "execution_count": 7,
   "metadata": {},
   "outputs": [
    {
     "name": "stdout",
     "output_type": "stream",
     "text": [
      "A ->\n",
      "B ->\n",
      "BA ->\n"
     ]
    }
   ],
   "source": [
    "imprimir_camino_minimo(d,p,pila,\"A\",\"BA\")"
   ]
  },
  {
   "cell_type": "code",
   "execution_count": null,
   "metadata": {
    "collapsed": true
   },
   "outputs": [],
   "source": []
  }
 ],
 "metadata": {
  "kernelspec": {
   "display_name": "Python 3",
   "language": "python",
   "name": "python3"
  },
  "language_info": {
   "codemirror_mode": {
    "name": "ipython",
    "version": 3
   },
   "file_extension": ".py",
   "mimetype": "text/x-python",
   "name": "python",
   "nbconvert_exporter": "python",
   "pygments_lexer": "ipython3",
   "version": "3.6.2"
  }
 },
 "nbformat": 4,
 "nbformat_minor": 2
}
