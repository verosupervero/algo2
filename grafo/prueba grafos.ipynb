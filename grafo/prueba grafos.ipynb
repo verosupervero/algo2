{
 "cells": [
  {
   "cell_type": "code",
   "execution_count": 119,
   "metadata": {},
   "outputs": [
    {
     "name": "stdout",
     "output_type": "stream",
     "text": [
      "[[0. 0.]\n",
      " [0. 1.]]\n",
      "\n",
      "agrego nodo:\n",
      "[[0. 0. 0.]\n",
      " [0. 1. 5.]\n",
      " [0. 0. 0.]]\n"
     ]
    },
    {
     "data": {
      "text/plain": [
       "matrix([[1., 5.],\n",
       "        [0., 0.]])"
      ]
     },
     "execution_count": 119,
     "metadata": {},
     "output_type": "execute_result"
    }
   ],
   "source": [
    "import numpy as np\n",
    "from scipy import sparse\n",
    "\n",
    "\n",
    "M = sparse.dok_matrix((0,0))\n",
    "\n",
    "M.resize(2,2)\n",
    "M[1,1] = 1\n",
    "print(M.todense())\n",
    "\n",
    "print(\"\\nagrego nodo:\")\n",
    "\n",
    "M.resize(3,3)\n",
    "M[1,2] = 5\n",
    "print(M.todense())\n",
    "\n",
    "max(M.get_shape())\n",
    "\n",
    "validas = [1,2]\n",
    "M[:,validas][validas,:].todense()"
   ]
  },
  {
   "cell_type": "code",
   "execution_count": 120,
   "metadata": {},
   "outputs": [],
   "source": [
    "import warnings\n",
    "\n",
    "class Grafo(object):\n",
    "    \"\"\"Voy a implementar un grafo como una matriz (sparse) de adyacencias y un diccionario de nodos\"\"\"\n",
    "    def __init__(self):\n",
    "        \"\"\"Crea un grafo vacio\"\"\"\n",
    "        self._mat_ady = sparse.dok_matrix((0,0))\n",
    "        \n",
    "        # Creo un diccionario con los nombres de los nodos, asociados a su indice\n",
    "        # la ventaja de esto, es que no necesito eliminar filas y columnas de la matriz\n",
    "        # solo poner sus valores en 0 y sacarlo de la lista, pero sin \"desplazar\" los indices\n",
    "        # del resto.\n",
    "        # Contra: al eliminar nodos van a quedar filas y columnas nulas, pero las puedo\n",
    "        # eliminar si quiero\n",
    "        self._indices = {}\n",
    "        \n",
    "    def agregar_nodo(self, nombre_nodo=None):\n",
    "        \"\"\"Agrego un nodo al grafo, no lo enlazo\"\"\"\n",
    "        if nombre_nodo in self._indices:\n",
    "            raise NameError('Nodo ya existe') # esto va o solo return?\n",
    "        \n",
    "        # Agrego el nodo al diccionario, con su nuevo indice\n",
    "        nuevo_indice = max(self._mat_ady.get_shape()) # +1 implicito\n",
    "        self._indices[nombre_nodo] = nuevo_indice \n",
    "        \n",
    "        # Agrego una nueva fila y columna a la matriz\n",
    "        nuevo_tamanio = nuevo_indice+1\n",
    "        self._mat_ady.resize((nuevo_tamanio, nuevo_tamanio))\n",
    "\n",
    "    def __repr__(self):\n",
    "        \"\"\"Devuelve una representación del grafo\"\"\"\n",
    "        return \"<Nodos: \" + str(self.lista_nodos()) + \"\\n Adyacencias:\\n\" + str(self.mat_adyacencias()) +\" >\"\n",
    "    \n",
    "    def lista_nodos(self):\n",
    "        \"\"\"Devuelve una lista de los nodos, ordenados según su aparición en la matriz de adyacencias\"\"\"\n",
    "        return sorted(self._indices, key=self._indices.__getitem__)\n",
    "    \n",
    "    def _compactar(self):\n",
    "        \"\"\"Elimina las columnas extra en la matriz de adyacencias, correspondientes a nodos eliminados\"\"\"\n",
    "        # Lista de columnas válidas (no eliminadas)\n",
    "        indices = list(self._indices.values())\n",
    "        \n",
    "        # Lista de nodos e indices validos, ordenados\n",
    "        indices = list(sorted(self._indices.values()))\n",
    "        nodos = sorted(self._indices, key=self._indices.__getitem__)\n",
    "        \n",
    "        # Filtro solo las columnas usadas\n",
    "        M_filtrada = self._mat_ady[:,indices][indices,:]\n",
    "        \n",
    "        # Asigno mis nuevos indices incrementalmente\n",
    "        self._indices = {v:i for i,v in enumerate(nodos)}\n",
    "        print(self._indices)\n",
    "        \n",
    "        # Asigno nueva matriz\n",
    "        self._mat_ady = M_filtrada\n",
    "    \n",
    "    def mat_adyacencias(self):\n",
    "        \"\"\"Devuelve la matriz de adyacencias de forma densa, la lista de nodos se obtiene con lista_nodos()\"\"\"\n",
    "        # Compacto la matriz para eliminar filas y columnas que no representan nodos\n",
    "        self._compactar()\n",
    "        \n",
    "        # Devuelvo la matriz densa\n",
    "        return self._mat_ady.todense()\n",
    "    \n",
    "    def agregar_arista(self, padre=None, hijo=None, peso=1, no_dirigido=False):\n",
    "        \"\"\"Agrega una arista desde el nodo padre hacia el nodo hijo, con un peso dado.\n",
    "        Si el vértice ya existía, lo reemplaza.\n",
    "        Si no se especifica el hijo, se crean dos vértices, uno en cada sentido, de peso dado.\n",
    "        Si el peso no se especifica, se asigna el valor 1.\n",
    "        \n",
    "        Si el peso es 0, el vertice es eliminado.\"\"\"\n",
    "        \n",
    "        # Busco los índices de los nodos\n",
    "        idx_padre = self._indices[padre]\n",
    "        idx_hijo = self._indices[hijo]\n",
    "        \n",
    "        # Agrego peso\n",
    "        self._mat_ady[idx_padre, idx_hijo] = peso\n",
    "        \n",
    "        if no_dirigido:\n",
    "            # Simétrico\n",
    "            self._mat_ady[idx_hijo, idx_padre] = peso\n",
    "    \n",
    "    def peso_vertice(self, padre=None, hijo=None):\n",
    "        # Busco los índices de los nodos\n",
    "        idx_padre = self._indices[padre]\n",
    "        idx_hijo = self._indices[hijo]\n",
    "        \n",
    "        return self._mat_ady[idx_padre, idx_hijo]\n",
    "    \n",
    "    def son_adyacentes(self, padre=None, hijo=None, no_dirigido=False):\n",
    "        \"\"\"Devuelve si el nodo padre posee una arista hacia el nodo hijo.\n",
    "        Si se usa no_dirigido=True, se verifica la existencia de la arista entre nodos, no así su sentido\"\"\"\n",
    "        \n",
    "        adyacencia_directa = self.peso_vertice(padre, hijo)!=0\n",
    "        \n",
    "        if no_dirigido:\n",
    "            adyacencia_inversa =  self.peso_vertice(hijo, padre)!=0\n",
    "            return adyacencia_directa or adyacencia_inversa\n",
    "        \n",
    "        # Adyacencia dirigida\n",
    "        return adyacencia_directa\n",
    "    \n",
    "    def eliminar_arista(self, padre=None, hijo=None, no_dirigido=False):\n",
    "        \"\"\"Elimina la arista desde el nodo padre al nodo hijo.\n",
    "        Si se usa no_dirigido=True, se eliminan ambas aristas\"\"\"\n",
    "        \n",
    "        self.agregar_arista(padre=padre, hijo=hijo, peso=0, no_dirigido=no_dirigido)\n",
    "        \n",
    "    def eliminar_nodo(self, nodo=None):\n",
    "        \"\"\"Elimina el nodo del grafo.\"\"\"\n",
    "        # elimino valor del diccionario\n",
    "        idx_nodo = self._indices.pop(nodo)\n",
    "        \n",
    "        # elimino la fila y columna idx_nodo-ésima (respectivamente)\n",
    "        self._mat_ady[idx_nodo,:] = 0\n",
    "        self._mat_ady[:,idx_nodo] = 0\n",
    "\n",
    "        # No voy a modificar las dimensiones de la matriz de adyacencia porque debería actualizar\n",
    "        # todos los índices, y al ser sparse no molesta tener más ceros. De todas formas se puede\n",
    "        # compactar la representación interna usando el método _compactar()"
   ]
  },
  {
   "cell_type": "code",
   "execution_count": 121,
   "metadata": {},
   "outputs": [
    {
     "data": {
      "text/plain": [
       "0"
      ]
     },
     "execution_count": 121,
     "metadata": {},
     "output_type": "execute_result"
    }
   ],
   "source": [
    "l = ['luis', 'pepe']\n",
    "d = {i:v for v,i in enumerate(l)}\n",
    "d['luis']"
   ]
  },
  {
   "cell_type": "code",
   "execution_count": 122,
   "metadata": {},
   "outputs": [
    {
     "name": "stdout",
     "output_type": "stream",
     "text": [
      "{'pepe': 0, 'luis': 1, 'solito': 2}\n",
      "<Nodos: ['pepe', 'luis', 'solito']\n",
      " Adyacencias:\n",
      "[[ 0.  3.  0.]\n",
      " [-3.  0.  0.]\n",
      " [ 0.  0.  0.]] >\n",
      "{'pepe': 0, 'luis': 1, 'solito': 2, 'amiguis1': 3, 'amiguis2': 4}\n",
      "<Nodos: ['pepe', 'luis', 'solito', 'amiguis1', 'amiguis2']\n",
      " Adyacencias:\n",
      "[[ 0.  3.  0.  0.  0.]\n",
      " [-3.  0.  0.  0.  0.]\n",
      " [ 0.  0.  0.  0.  0.]\n",
      " [ 0.  0.  0.  0.  1.]\n",
      " [ 0.  0.  0.  1.  0.]] >\n"
     ]
    }
   ],
   "source": [
    "grafito = Grafo()\n",
    "\n",
    "grafito.agregar_nodo(\"pepe\")\n",
    "grafito.agregar_nodo(\"luis\")\n",
    "grafito.agregar_nodo(\"solito\")\n",
    "grafito.agregar_arista(\"pepe\",\"luis\",3)\n",
    "grafito.agregar_arista(\"luis\",\"pepe\",-3)\n",
    "print(grafito)\n",
    "\n",
    "grafito.agregar_nodo(\"amiguis1\")\n",
    "grafito.agregar_nodo(\"amiguis2\")\n",
    "grafito.agregar_arista(\"amiguis1\",\"amiguis2\",no_dirigido=True)\n",
    "print(grafito)"
   ]
  },
  {
   "cell_type": "code",
   "execution_count": 123,
   "metadata": {},
   "outputs": [
    {
     "name": "stdout",
     "output_type": "stream",
     "text": [
      "{'pepe': 0, 'luis': 1, 'solito': 2, 'amiguis1': 3, 'amiguis2': 4}\n",
      "<Nodos: ['pepe', 'luis', 'solito', 'amiguis1', 'amiguis2']\n",
      " Adyacencias:\n",
      "[[ 0.  3.  0.  0.  0.]\n",
      " [-3.  0.  0.  0.  0.]\n",
      " [ 0.  0.  0.  0.  0.]\n",
      " [ 0.  0.  0.  0.  0.]\n",
      " [ 0.  0.  0.  1.  0.]] >\n",
      "{'pepe': 0, 'solito': 1, 'amiguis1': 2, 'amiguis2': 3}\n",
      "<Nodos: ['pepe', 'solito', 'amiguis1', 'amiguis2']\n",
      " Adyacencias:\n",
      "[[0. 0. 0. 0.]\n",
      " [0. 0. 0. 0.]\n",
      " [0. 0. 0. 0.]\n",
      " [0. 0. 1. 0.]] >\n"
     ]
    }
   ],
   "source": [
    "grafito.eliminar_arista(\"amiguis1\",\"amiguis2\")\n",
    "print(grafito)\n",
    "\n",
    "grafito.eliminar_nodo(\"luis\")\n",
    "print(grafito)"
   ]
  },
  {
   "cell_type": "code",
   "execution_count": 124,
   "metadata": {},
   "outputs": [
    {
     "name": "stdout",
     "output_type": "stream",
     "text": [
      "2\n"
     ]
    },
    {
     "data": {
      "text/plain": [
       "1"
      ]
     },
     "execution_count": 124,
     "metadata": {},
     "output_type": "execute_result"
    }
   ],
   "source": [
    "x=['holis','gaston','gato']\n",
    "\n",
    "if 'pepe' in x:\n",
    "    print(3)\n",
    "else:\n",
    "    print(2)\n",
    "    \n",
    "x.index('gaston')"
   ]
  },
  {
   "cell_type": "code",
   "execution_count": 125,
   "metadata": {},
   "outputs": [
    {
     "data": {
      "text/plain": [
       "['holis', 'gaston', 'gato']"
      ]
     },
     "execution_count": 125,
     "metadata": {},
     "output_type": "execute_result"
    }
   ],
   "source": [
    "x"
   ]
  },
  {
   "cell_type": "code",
   "execution_count": 126,
   "metadata": {},
   "outputs": [
    {
     "data": {
      "text/plain": [
       "4"
      ]
     },
     "execution_count": 126,
     "metadata": {},
     "output_type": "execute_result"
    }
   ],
   "source": [
    "m={\"pepe\":1, \"gaston\":4}\n",
    "m[\"gaston\"]"
   ]
  },
  {
   "cell_type": "code",
   "execution_count": 127,
   "metadata": {},
   "outputs": [],
   "source": [
    "m[\"popo\"]=-1"
   ]
  },
  {
   "cell_type": "code",
   "execution_count": 128,
   "metadata": {},
   "outputs": [
    {
     "data": {
      "text/plain": [
       "{'pepe': 1, 'gaston': 4, 'popo': -1}"
      ]
     },
     "execution_count": 128,
     "metadata": {},
     "output_type": "execute_result"
    }
   ],
   "source": [
    "m"
   ]
  },
  {
   "cell_type": "code",
   "execution_count": 129,
   "metadata": {},
   "outputs": [
    {
     "data": {
      "text/plain": [
       "[1, 4, -1]"
      ]
     },
     "execution_count": 129,
     "metadata": {},
     "output_type": "execute_result"
    }
   ],
   "source": [
    "list(m.values())"
   ]
  },
  {
   "cell_type": "code",
   "execution_count": 130,
   "metadata": {},
   "outputs": [
    {
     "data": {
      "text/plain": [
       "True"
      ]
     },
     "execution_count": 130,
     "metadata": {},
     "output_type": "execute_result"
    }
   ],
   "source": [
    "0.0==0"
   ]
  },
  {
   "cell_type": "code",
   "execution_count": 131,
   "metadata": {},
   "outputs": [],
   "source": [
    "ts=grafito._mat_ady[:,0]"
   ]
  },
  {
   "cell_type": "code",
   "execution_count": 132,
   "metadata": {},
   "outputs": [
    {
     "data": {
      "text/plain": [
       "<4x1 sparse matrix of type '<class 'numpy.float64'>'\n",
       "\twith 0 stored elements in Dictionary Of Keys format>"
      ]
     },
     "execution_count": 132,
     "metadata": {},
     "output_type": "execute_result"
    }
   ],
   "source": [
    "ts"
   ]
  },
  {
   "cell_type": "code",
   "execution_count": 133,
   "metadata": {},
   "outputs": [],
   "source": [
    "grafito._mat_ady[:,0]=0"
   ]
  },
  {
   "cell_type": "code",
   "execution_count": 134,
   "metadata": {},
   "outputs": [
    {
     "data": {
      "text/plain": [
       "matrix([[0., 0., 0., 0.],\n",
       "        [0., 0., 0., 0.],\n",
       "        [0., 0., 0., 0.],\n",
       "        [0., 0., 1., 0.]])"
      ]
     },
     "execution_count": 134,
     "metadata": {},
     "output_type": "execute_result"
    }
   ],
   "source": [
    "grafito._mat_ady.todense()"
   ]
  },
  {
   "cell_type": "code",
   "execution_count": null,
   "metadata": {},
   "outputs": [],
   "source": []
  }
 ],
 "metadata": {
  "kernelspec": {
   "display_name": "Python 3",
   "language": "python",
   "name": "python3"
  },
  "language_info": {
   "codemirror_mode": {
    "name": "ipython",
    "version": 3
   },
   "file_extension": ".py",
   "mimetype": "text/x-python",
   "name": "python",
   "nbconvert_exporter": "python",
   "pygments_lexer": "ipython3",
   "version": "3.6.5"
  }
 },
 "nbformat": 4,
 "nbformat_minor": 2
}
