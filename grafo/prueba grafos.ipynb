{
 "cells": [
  {
   "cell_type": "code",
   "execution_count": 23,
   "metadata": {
    "scrolled": true
   },
   "outputs": [
    {
     "name": "stdout",
     "output_type": "stream",
     "text": [
      "{'CORDOBA': 0, 'BUENOS AIRES': 1, 'SALTA': 2}\n",
      "<Nodos: ['CORDOBA', 'BUENOS AIRES', 'SALTA']\n",
      " Adyacencias:\n",
      "[[ 0.  3.  0.]\n",
      " [ 0.  0.  0.]\n",
      " [ 0.  0.  0.]] >\n"
     ]
    }
   ],
   "source": [
    "from Grafo import Grafo\n",
    "\n",
    "grafito = Grafo()\n",
    "\n",
    "grafito.agregar_nodo(\"CORDOBA\")\n",
    "grafito.agregar_nodo(\"BUENOS AIRES\")\n",
    "grafito.agregar_nodo(\"SALTA\")\n",
    "grafito.agregar_arista(\"CORDOBA\",\"BUENOS AIRES\",3)\n",
    "print(grafito)\n"
   ]
  },
  {
   "cell_type": "code",
   "execution_count": 24,
   "metadata": {},
   "outputs": [
    {
     "data": {
      "text/plain": [
       "dict_items([('CORDOBA', 0), ('BUENOS AIRES', 1), ('SALTA', 2)])"
      ]
     },
     "execution_count": 24,
     "metadata": {},
     "output_type": "execute_result"
    }
   ],
   "source": [
    "grafito._indices.items()"
   ]
  },
  {
   "cell_type": "code",
   "execution_count": 25,
   "metadata": {},
   "outputs": [
    {
     "data": {
      "text/plain": [
       "['BUENOS AIRES']"
      ]
     },
     "execution_count": 25,
     "metadata": {},
     "output_type": "execute_result"
    }
   ],
   "source": [
    "indices = (np.where(grafito._mat_ady[0,:].todense()!=0))[1]\n",
    "[nombre for nombre,idx in grafito._indices.items() if idx in indices]\n"
   ]
  },
  {
   "cell_type": "code",
   "execution_count": 26,
   "metadata": {},
   "outputs": [
    {
     "data": {
      "text/plain": [
       "['CORDOBA', 'BUENOS AIRES', 'SALTA']"
      ]
     },
     "execution_count": 26,
     "metadata": {},
     "output_type": "execute_result"
    }
   ],
   "source": [
    "grafito.lista_nodos()"
   ]
  },
  {
   "cell_type": "code",
   "execution_count": 27,
   "metadata": {},
   "outputs": [
    {
     "data": {
      "text/plain": [
       "4"
      ]
     },
     "execution_count": 27,
     "metadata": {},
     "output_type": "execute_result"
    }
   ],
   "source": [
    "m={\"pepe\":1, \"gaston\":4}\n",
    "m[\"gaston\"]"
   ]
  },
  {
   "cell_type": "code",
   "execution_count": 30,
   "metadata": {
    "collapsed": true
   },
   "outputs": [],
   "source": [
    "m[\"popo\"]=float(\"Inf\")"
   ]
  },
  {
   "cell_type": "code",
   "execution_count": 31,
   "metadata": {},
   "outputs": [
    {
     "data": {
      "text/plain": [
       "{'gaston': 4, 'pepe': 1, 'popo': inf}"
      ]
     },
     "execution_count": 31,
     "metadata": {},
     "output_type": "execute_result"
    }
   ],
   "source": [
    "m"
   ]
  },
  {
   "cell_type": "code",
   "execution_count": 20,
   "metadata": {},
   "outputs": [
    {
     "data": {
      "text/plain": [
       "[1, 4, -1]"
      ]
     },
     "execution_count": 20,
     "metadata": {},
     "output_type": "execute_result"
    }
   ],
   "source": [
    "list(m.values())"
   ]
  },
  {
   "cell_type": "code",
   "execution_count": null,
   "metadata": {
    "collapsed": true
   },
   "outputs": [],
   "source": [
    "0.0==0"
   ]
  },
  {
   "cell_type": "code",
   "execution_count": 28,
   "metadata": {
    "collapsed": true
   },
   "outputs": [],
   "source": [
    "ts=grafito._mat_ady[:,0]"
   ]
  },
  {
   "cell_type": "code",
   "execution_count": 29,
   "metadata": {},
   "outputs": [
    {
     "data": {
      "text/plain": [
       "<3x1 sparse matrix of type '<class 'numpy.float64'>'\n",
       "\twith 0 stored elements in Dictionary Of Keys format>"
      ]
     },
     "execution_count": 29,
     "metadata": {},
     "output_type": "execute_result"
    }
   ],
   "source": [
    "ts"
   ]
  },
  {
   "cell_type": "code",
   "execution_count": null,
   "metadata": {
    "collapsed": true
   },
   "outputs": [],
   "source": [
    "grafito._mat_ady[:,0]=0"
   ]
  },
  {
   "cell_type": "code",
   "execution_count": null,
   "metadata": {
    "collapsed": true
   },
   "outputs": [],
   "source": [
    "grafito._mat_ady.todense()"
   ]
  },
  {
   "cell_type": "code",
   "execution_count": null,
   "metadata": {
    "collapsed": true
   },
   "outputs": [],
   "source": []
  },
  {
   "cell_type": "code",
   "execution_count": null,
   "metadata": {},
   "outputs": [],
   "source": [
    "li=[1,9,3,4]\n",
    "del li[0]\n",
    "li.remove(9)\n",
    "li"
   ]
  },
  {
   "cell_type": "code",
   "execution_count": null,
   "metadata": {},
   "outputs": [],
   "source": [
    "li.index(4)"
   ]
  },
  {
   "cell_type": "code",
   "execution_count": null,
   "metadata": {
    "collapsed": true
   },
   "outputs": [],
   "source": [
    "li.extend([10,11])"
   ]
  },
  {
   "cell_type": "code",
   "execution_count": null,
   "metadata": {},
   "outputs": [],
   "source": [
    "11 in li"
   ]
  },
  {
   "cell_type": "code",
   "execution_count": null,
   "metadata": {
    "collapsed": true
   },
   "outputs": [],
   "source": [
    "pepe = {\"vero\": \"poshito rosa\", \"nando\": 2, \"poshito\": 3}"
   ]
  },
  {
   "cell_type": "code",
   "execution_count": null,
   "metadata": {},
   "outputs": [],
   "source": [
    "valid_dict = {(1,2,3):[1,2,3]} \n",
    "valid_dict #debe ser inmutable"
   ]
  },
  {
   "cell_type": "code",
   "execution_count": null,
   "metadata": {},
   "outputs": [],
   "source": [
    "list(pepe.keys())"
   ]
  },
  {
   "cell_type": "code",
   "execution_count": null,
   "metadata": {},
   "outputs": [],
   "source": [
    "list(pepe.values())"
   ]
  },
  {
   "cell_type": "code",
   "execution_count": null,
   "metadata": {},
   "outputs": [],
   "source": [
    "\"vero\" in pepe"
   ]
  },
  {
   "cell_type": "code",
   "execution_count": null,
   "metadata": {},
   "outputs": [],
   "source": [
    "pepe.get(\"vero\")"
   ]
  },
  {
   "cell_type": "code",
   "execution_count": null,
   "metadata": {
    "collapsed": true
   },
   "outputs": [],
   "source": [
    "pepe.update({\"cone\":\"comida\"})"
   ]
  },
  {
   "cell_type": "code",
   "execution_count": null,
   "metadata": {},
   "outputs": [],
   "source": [
    "pepe"
   ]
  },
  {
   "cell_type": "code",
   "execution_count": null,
   "metadata": {},
   "outputs": [],
   "source": [
    "pepe"
   ]
  },
  {
   "cell_type": "code",
   "execution_count": null,
   "metadata": {
    "collapsed": true
   },
   "outputs": [],
   "source": [
    "pepe[\"platano\"] = \"s1 sen10r\""
   ]
  },
  {
   "cell_type": "code",
   "execution_count": null,
   "metadata": {},
   "outputs": [],
   "source": [
    "pepe"
   ]
  },
  {
   "cell_type": "code",
   "execution_count": null,
   "metadata": {
    "collapsed": true
   },
   "outputs": [],
   "source": [
    "del pepe[\"platano\"]"
   ]
  },
  {
   "cell_type": "code",
   "execution_count": null,
   "metadata": {},
   "outputs": [],
   "source": [
    "pepe"
   ]
  },
  {
   "cell_type": "code",
   "execution_count": null,
   "metadata": {},
   "outputs": [],
   "source": [
    "primer_set={2,3}\n",
    "other_set = {3, 4, 5, 6}\n",
    "primer_set & other_set  # da solo {3}\n",
    "primer_set | other_set #es la union sin dos veces la interseccion digamos\n",
    "primer_set - other_set #este hace algo raro, saca los elementos de la primera que esten en la segunda"
   ]
  },
  {
   "cell_type": "code",
   "execution_count": null,
   "metadata": {},
   "outputs": [],
   "source": [
    "{1, 2, 3, 4} ^ {2, 3, 5} #este dice cuales son distintos entre ambos"
   ]
  },
  {
   "cell_type": "code",
   "execution_count": null,
   "metadata": {},
   "outputs": [],
   "source": [
    "# Check if set on the left is a subset of set on the right\n",
    "{1, 2} <= {1, 2, 3} #chequea si lo primero es un subespacio generado \n",
    "#por el segundo, con el piquito para el otro lado chequea si el de la derecha lo es"
   ]
  },
  {
   "cell_type": "code",
   "execution_count": null,
   "metadata": {},
   "outputs": [],
   "source": [
    "2 in primer_set"
   ]
  },
  {
   "cell_type": "code",
   "execution_count": null,
   "metadata": {},
   "outputs": [],
   "source": [
    "for animal in [\"dog\", \"cat\", \"mouse\"]:\n",
    "    print(\"{} is a mammal\".format(animal))"
   ]
  },
  {
   "cell_type": "code",
   "execution_count": null,
   "metadata": {},
   "outputs": [],
   "source": [
    "for i in range(4): #empieza en 0, exclusivo a derecha\n",
    "    print(i)\n"
   ]
  },
  {
   "cell_type": "code",
   "execution_count": null,
   "metadata": {},
   "outputs": [],
   "source": [
    "for i in range(4, 17, 2):\n",
    "    print(i)"
   ]
  },
  {
   "cell_type": "code",
   "execution_count": null,
   "metadata": {},
   "outputs": [],
   "source": [
    "\n",
    "grafito2 = Grafo()\n",
    "\n",
    "grafito2.agregar_nodo(\"pepe\")"
   ]
  },
  {
   "cell_type": "code",
   "execution_count": 46,
   "metadata": {},
   "outputs": [
    {
     "name": "stdout",
     "output_type": "stream",
     "text": [
      "[(1, 'israel'), (2, 'mendoza'), (3, 'cancun'), (7, 'venecia'), (2, 'polonia'), (20, 'turquia'), (5, 'buenos aires')]\n",
      "[(1, 'israel'), (2, 'mendoza'), (3, 'cancun'), (7, 'venecia'), (2, 'polonia'), (20, 'turquia'), (5, 'buenos aires'), (27, 'holanda')]\n"
     ]
    }
   ],
   "source": [
    "import heapq\n",
    "heap = [(5,\"buenos aires\"),(2,\"mendoza\"),(3,\"cancun\"),(7,\"venecia\"),(2,\"polonia\"),(20,\"turquia\"),(1,\"israel\")]\n",
    "heapq.heapify(heap)\n",
    "print(heap)\n",
    "heapq.heappush(heap,(27,\"holanda\"))\n",
    "heapq.heapify(heap)\n",
    "print(heap)"
   ]
  },
  {
   "cell_type": "code",
   "execution_count": 42,
   "metadata": {},
   "outputs": [
    {
     "name": "stdout",
     "output_type": "stream",
     "text": [
      "[(20, 'turquia'), (7, 'venecia'), (3, 'cancun'), (7, 'mendoza'), (2, 'polonia'), (1, 'buenos aires'), (1, 'israel')]\n"
     ]
    }
   ],
   "source": [
    "class Nodo_heap(object):\n",
    "    def __init__(self,dato):\n",
    "        self.dato = dato\n",
    "    def obtener_valor():\n",
    "        return dato\n",
    "    def __lt__(self, other):\n",
    "        return self.dato>other.dato\n",
    "    def __gt__(self, other):\n",
    "        return self.dato<other.dato\n",
    "    def __eq__(self, other):\n",
    "        return self.dato==other.dato\n",
    "    def __str__(self):\n",
    "        return str(self.dato)\n",
    "    def __repr__(self):\n",
    "        return str(self.dato)\n",
    "\n",
    "heap = [Nodo_heap((1,\"buenos aires\")),Nodo_heap((7,\"mendoza\")),Nodo_heap((3,\"cancun\")),Nodo_heap((7,\"venecia\")),Nodo_heap((2,\"polonia\")),Nodo_heap((20,\"turquia\")),Nodo_heap((1,\"israel\"))]\n",
    "\n",
    "heapq.heapify(heap)\n",
    "print(heap)"
   ]
  },
  {
   "cell_type": "code",
   "execution_count": 43,
   "metadata": {
    "collapsed": true
   },
   "outputs": [],
   "source": [
    "yes=(5,6)\n",
    "[vertice,distancia]=yes"
   ]
  },
  {
   "cell_type": "code",
   "execution_count": 44,
   "metadata": {},
   "outputs": [
    {
     "data": {
      "text/plain": [
       "5"
      ]
     },
     "execution_count": 44,
     "metadata": {},
     "output_type": "execute_result"
    }
   ],
   "source": [
    "vertice"
   ]
  },
  {
   "cell_type": "code",
   "execution_count": 45,
   "metadata": {},
   "outputs": [
    {
     "data": {
      "text/plain": [
       "(5, 6)"
      ]
     },
     "execution_count": 45,
     "metadata": {},
     "output_type": "execute_result"
    }
   ],
   "source": [
    "yes"
   ]
  },
  {
   "cell_type": "code",
   "execution_count": null,
   "metadata": {
    "collapsed": true
   },
   "outputs": [],
   "source": []
  }
 ],
 "metadata": {
  "kernelspec": {
   "display_name": "Python 3",
   "language": "python",
   "name": "python3"
  },
  "language_info": {
   "codemirror_mode": {
    "name": "ipython",
    "version": 3
   },
   "file_extension": ".py",
   "mimetype": "text/x-python",
   "name": "python",
   "nbconvert_exporter": "python",
   "pygments_lexer": "ipython3",
   "version": "3.6.2"
  }
 },
 "nbformat": 4,
 "nbformat_minor": 2
}
