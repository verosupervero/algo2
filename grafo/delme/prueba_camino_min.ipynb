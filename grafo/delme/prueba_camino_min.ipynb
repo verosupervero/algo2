{
 "cells": [
  {
   "cell_type": "code",
   "execution_count": 1,
   "metadata": {
    "scrolled": true
   },
   "outputs": [
    {
     "name": "stdout",
     "output_type": "stream",
     "text": [
      "{'A': 0, 'B': 2.0, 'C': 2.0, 'D': 2.0, 'BA': 4.0, 'BB': 4.0}\n",
      "{'A': None, 'B': 'A', 'C': 'A', 'D': 'A', 'BA': 'B', 'BB': 'B'}\n"
     ]
    }
   ],
   "source": [
    "from Grafo import Grafo\n",
    "import numpy as np\n",
    "\n",
    "grafito = Grafo()\n",
    "\n",
    "lista_vertices = [\"A\",\"B\",\"C\",\"D\",\"BA\",\"BB\"]\n",
    "# aristas no dirigidas\n",
    "lista_aristas = [(\"A\",\"B\",2), (\"A\",\"C\",2), (\"A\",\"D\",2), (\"B\",\"BA\",2), (\"B\",\"BB\",2),(\"BB\",\"C\",2)]\n",
    "\n",
    "for k in lista_vertices:\n",
    "    grafito.agregar_vertice(k)\n",
    "\n",
    "for a,b,peso in lista_aristas:\n",
    "    grafito.agregar_arista(a,b,peso=peso, no_dirigido=True)\n",
    "\n",
    "    \n",
    "d,p = grafito.camino_minimo(origen=\"A\")\n",
    "\n",
    "print(d)\n",
    "print(p)\n",
    "pila=[]"
   ]
  },
  {
   "cell_type": "code",
   "execution_count": 2,
   "metadata": {},
   "outputs": [
    {
     "name": "stdout",
     "output_type": "stream",
     "text": [
      "A,B\n"
     ]
    }
   ],
   "source": [
    "centralidad=grafito.centralidad(2)"
   ]
  },
  {
   "cell_type": "code",
   "execution_count": 3,
   "metadata": {
    "scrolled": false
   },
   "outputs": [
    {
     "name": "stdout",
     "output_type": "stream",
     "text": [
      "{'A': 0, 'B': 1, 'C': 2, 'D': 3, 'BA': 4, 'BB': 5}\n",
      "B,A,C,BB,D,BA\n"
     ]
    },
    {
     "data": {
      "text/plain": [
       "['B', 'A', 'C', 'BB', 'D', 'BA']"
      ]
     },
     "execution_count": 3,
     "metadata": {},
     "output_type": "execute_result"
    }
   ],
   "source": [
    "grafito.pagerank(100,True)"
   ]
  },
  {
   "cell_type": "code",
   "execution_count": 4,
   "metadata": {
    "collapsed": true
   },
   "outputs": [],
   "source": [
    "m,j = grafito.camino_minimo(origen=\"A\",dest=\"B\")"
   ]
  },
  {
   "cell_type": "code",
   "execution_count": 5,
   "metadata": {},
   "outputs": [
    {
     "data": {
      "text/plain": [
       "[4, 5, 10]"
      ]
     },
     "execution_count": 5,
     "metadata": {},
     "output_type": "execute_result"
    }
   ],
   "source": [
    "args=[10,4,5]\n",
    "sorted(args)[0:3]"
   ]
  },
  {
   "cell_type": "code",
   "execution_count": 6,
   "metadata": {
    "collapsed": true
   },
   "outputs": [],
   "source": [
    "def camino(param,origen,destino=None): #recibira archivo y como lo quiero recorrer al mapa, desde donde y a donde\n",
    "    grafo= Grafo()\n",
    "    grafo.armar_grafo(param)\n",
    "    \n",
    "    distancia,predecesores=camino_minimo(grafo,origen,destino)\n",
    "    imprimir_camino(distancia,predecesores)\n",
    "    \n",
    "#si llamo a mas barato se lo paso por parametro, si es con mas rapido tmb, pasa por CLO esto. \n",
    "# Ademas si no le paso dest pasandole mas rapido me obtiene el recorrido de forma optima x el mundo. \n",
    "#El de menos escalas es lo mismo pero en vez de eso lo haces con prim en lugar de camino_minimo,\n",
    "#ver de puntero a funcion o algo asi"
   ]
  },
  {
   "cell_type": "code",
   "execution_count": 7,
   "metadata": {},
   "outputs": [
    {
     "data": {
      "text/plain": [
       "({'A': 0, 'B': 2.0, 'BA': 4.0, 'BB': 4.0, 'C': 2.0, 'D': 2.0},\n",
       " {'A': None, 'B': 'A', 'BA': 'B', 'BB': 'B', 'C': 'A', 'D': 'A'})"
      ]
     },
     "execution_count": 7,
     "metadata": {},
     "output_type": "execute_result"
    }
   ],
   "source": [
    "grafito.camino_minimo(origen=\"A\",dest=\"BB\")"
   ]
  },
  {
   "cell_type": "code",
   "execution_count": 8,
   "metadata": {},
   "outputs": [
    {
     "data": {
      "text/plain": [
       "({'A': 0, 'B': 2.0, 'BA': 4.0, 'BB': 4.0, 'C': 2.0, 'D': 2.0},\n",
       " {'A': None, 'B': 'A', 'BA': 'B', 'BB': 'B', 'C': 'A', 'D': 'A'})"
      ]
     },
     "execution_count": 8,
     "metadata": {},
     "output_type": "execute_result"
    }
   ],
   "source": [
    "grafito.camino_minimo(origen=\"A\",dest=\"BA\")"
   ]
  },
  {
   "cell_type": "code",
   "execution_count": 9,
   "metadata": {},
   "outputs": [
    {
     "data": {
      "text/plain": [
       "({'A': 0, 'B': 2.0, 'BA': 4.0, 'BB': 4.0, 'C': 2.0, 'D': 2.0},\n",
       " {'A': None, 'B': 'A', 'BA': 'B', 'BB': 'B', 'C': 'A', 'D': 'A'})"
      ]
     },
     "execution_count": 9,
     "metadata": {},
     "output_type": "execute_result"
    }
   ],
   "source": [
    "grafito.camino_minimo(origen=\"A\")"
   ]
  },
  {
   "cell_type": "code",
   "execution_count": 11,
   "metadata": {},
   "outputs": [
    {
     "name": "stdout",
     "output_type": "stream",
     "text": [
      "A,B,C\n"
     ]
    }
   ],
   "source": [
    "print(','.join(map(str,sorted(centralidad, key=centralidad.get, reverse=True)[0:3])))"
   ]
  },
  {
   "cell_type": "code",
   "execution_count": null,
   "metadata": {
    "collapsed": true
   },
   "outputs": [],
   "source": []
  }
 ],
 "metadata": {
  "kernelspec": {
   "display_name": "Python 3",
   "language": "python",
   "name": "python3"
  },
  "language_info": {
   "codemirror_mode": {
    "name": "ipython",
    "version": 3
   },
   "file_extension": ".py",
   "mimetype": "text/x-python",
   "name": "python",
   "nbconvert_exporter": "python",
   "pygments_lexer": "ipython3",
   "version": "3.6.2"
  }
 },
 "nbformat": 4,
 "nbformat_minor": 2
}
