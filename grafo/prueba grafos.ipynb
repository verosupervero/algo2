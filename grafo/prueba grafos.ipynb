{
 "cells": [
  {
   "cell_type": "code",
   "execution_count": 16,
   "metadata": {},
   "outputs": [
    {
     "name": "stdout",
     "output_type": "stream",
     "text": [
      "{'pepe': 0, 'luis': 1, 'solito': 2}\n",
      "<Nodos: ['pepe', 'luis', 'solito']\n",
      " Adyacencias:\n",
      "[[ 0.  3.  0.]\n",
      " [-3.  0.  0.]\n",
      " [ 0.  0.  0.]] >\n",
      "{'pepe': 0, 'luis': 1, 'solito': 2, 'amiguis1': 3, 'amiguis2': 4}\n",
      "<Nodos: ['pepe', 'luis', 'solito', 'amiguis1', 'amiguis2']\n",
      " Adyacencias:\n",
      "[[ 0.  3.  0.  0.  0.]\n",
      " [-3.  0.  0.  0.  0.]\n",
      " [ 0.  0.  0.  0.  0.]\n",
      " [ 0.  0.  0.  0.  1.]\n",
      " [ 0.  0.  0.  1.  0.]] >\n"
     ]
    }
   ],
   "source": [
    "from Grafo import Grafo\n",
    "\n",
    "grafito = Grafo()\n",
    "\n",
    "grafito.agregar_nodo(\"pepe\")\n",
    "grafito.agregar_nodo(\"luis\")\n",
    "grafito.agregar_nodo(\"solito\")\n",
    "grafito.agregar_arista(\"pepe\",\"luis\",3)\n",
    "grafito.agregar_arista(\"luis\",\"pepe\",-3)\n",
    "print(grafito)\n",
    "\n",
    "grafito.agregar_nodo(\"amiguis1\")\n",
    "grafito.agregar_nodo(\"amiguis2\")\n",
    "grafito.agregar_arista(\"amiguis1\",\"amiguis2\",no_dirigido=True)\n",
    "print(grafito)"
   ]
  },
  {
   "cell_type": "code",
   "execution_count": 17,
   "metadata": {},
   "outputs": [
    {
     "name": "stdout",
     "output_type": "stream",
     "text": [
      "{'pepe': 0, 'luis': 1, 'solito': 2, 'amiguis1': 3, 'amiguis2': 4}\n",
      "<Nodos: ['pepe', 'luis', 'solito', 'amiguis1', 'amiguis2']\n",
      " Adyacencias:\n",
      "[[ 0.  3.  0.  0.  0.]\n",
      " [-3.  0.  0.  0.  0.]\n",
      " [ 0.  0.  0.  0.  0.]\n",
      " [ 0.  0.  0.  0.  0.]\n",
      " [ 0.  0.  0.  1.  0.]] >\n",
      "{'pepe': 0, 'solito': 1, 'amiguis1': 2, 'amiguis2': 3}\n",
      "<Nodos: ['pepe', 'solito', 'amiguis1', 'amiguis2']\n",
      " Adyacencias:\n",
      "[[0. 0. 0. 0.]\n",
      " [0. 0. 0. 0.]\n",
      " [0. 0. 0. 0.]\n",
      " [0. 0. 1. 0.]] >\n"
     ]
    }
   ],
   "source": [
    "grafito.eliminar_arista(\"amiguis1\",\"amiguis2\")\n",
    "print(grafito)\n",
    "\n",
    "grafito.eliminar_nodo(\"luis\")\n",
    "print(grafito)"
   ]
  },
  {
   "cell_type": "code",
   "execution_count": 18,
   "metadata": {},
   "outputs": [
    {
     "name": "stdout",
     "output_type": "stream",
     "text": [
      "2\n"
     ]
    },
    {
     "data": {
      "text/plain": [
       "1"
      ]
     },
     "execution_count": 18,
     "metadata": {},
     "output_type": "execute_result"
    }
   ],
   "source": [
    "x=['holis','gaston','gato']\n",
    "\n",
    "if 'pepe' in x:\n",
    "    print(3)\n",
    "else:\n",
    "    print(2)\n",
    "    \n",
    "x.index('gaston')"
   ]
  },
  {
   "cell_type": "code",
   "execution_count": 19,
   "metadata": {},
   "outputs": [
    {
     "data": {
      "text/plain": [
       "['holis', 'gaston', 'gato']"
      ]
     },
     "execution_count": 19,
     "metadata": {},
     "output_type": "execute_result"
    }
   ],
   "source": [
    "x"
   ]
  },
  {
   "cell_type": "code",
   "execution_count": 20,
   "metadata": {},
   "outputs": [
    {
     "data": {
      "text/plain": [
       "4"
      ]
     },
     "execution_count": 20,
     "metadata": {},
     "output_type": "execute_result"
    }
   ],
   "source": [
    "m={\"pepe\":1, \"gaston\":4}\n",
    "m[\"gaston\"]"
   ]
  },
  {
   "cell_type": "code",
   "execution_count": 21,
   "metadata": {},
   "outputs": [],
   "source": [
    "m[\"popo\"]=-1"
   ]
  },
  {
   "cell_type": "code",
   "execution_count": 22,
   "metadata": {},
   "outputs": [
    {
     "data": {
      "text/plain": [
       "{'pepe': 1, 'gaston': 4, 'popo': -1}"
      ]
     },
     "execution_count": 22,
     "metadata": {},
     "output_type": "execute_result"
    }
   ],
   "source": [
    "m"
   ]
  },
  {
   "cell_type": "code",
   "execution_count": 23,
   "metadata": {},
   "outputs": [
    {
     "data": {
      "text/plain": [
       "[1, 4, -1]"
      ]
     },
     "execution_count": 23,
     "metadata": {},
     "output_type": "execute_result"
    }
   ],
   "source": [
    "list(m.values())"
   ]
  },
  {
   "cell_type": "code",
   "execution_count": 24,
   "metadata": {},
   "outputs": [
    {
     "data": {
      "text/plain": [
       "True"
      ]
     },
     "execution_count": 24,
     "metadata": {},
     "output_type": "execute_result"
    }
   ],
   "source": [
    "0.0==0"
   ]
  },
  {
   "cell_type": "code",
   "execution_count": 25,
   "metadata": {},
   "outputs": [],
   "source": [
    "ts=grafito._mat_ady[:,0]"
   ]
  },
  {
   "cell_type": "code",
   "execution_count": 26,
   "metadata": {},
   "outputs": [
    {
     "data": {
      "text/plain": [
       "<4x1 sparse matrix of type '<class 'numpy.float64'>'\n",
       "\twith 0 stored elements in Dictionary Of Keys format>"
      ]
     },
     "execution_count": 26,
     "metadata": {},
     "output_type": "execute_result"
    }
   ],
   "source": [
    "ts"
   ]
  },
  {
   "cell_type": "code",
   "execution_count": 27,
   "metadata": {},
   "outputs": [],
   "source": [
    "grafito._mat_ady[:,0]=0"
   ]
  },
  {
   "cell_type": "code",
   "execution_count": 28,
   "metadata": {},
   "outputs": [
    {
     "data": {
      "text/plain": [
       "matrix([[0., 0., 0., 0.],\n",
       "        [0., 0., 0., 0.],\n",
       "        [0., 0., 0., 0.],\n",
       "        [0., 0., 1., 0.]])"
      ]
     },
     "execution_count": 28,
     "metadata": {},
     "output_type": "execute_result"
    }
   ],
   "source": [
    "grafito._mat_ady.todense()"
   ]
  },
  {
   "cell_type": "code",
   "execution_count": null,
   "metadata": {},
   "outputs": [],
   "source": []
  }
 ],
 "metadata": {
  "kernelspec": {
   "display_name": "Python 3",
   "language": "python",
   "name": "python3"
  },
  "language_info": {
   "codemirror_mode": {
    "name": "ipython",
    "version": 3
   },
   "file_extension": ".py",
   "mimetype": "text/x-python",
   "name": "python",
   "nbconvert_exporter": "python",
   "pygments_lexer": "ipython3",
   "version": "3.6.5"
  }
 },
 "nbformat": 4,
 "nbformat_minor": 2
}
